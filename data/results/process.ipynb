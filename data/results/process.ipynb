{
 "cells": [
  {
   "cell_type": "code",
   "execution_count": 38,
   "metadata": {},
   "outputs": [],
   "source": [
    "import os\n",
    "import json"
   ]
  },
  {
   "cell_type": "markdown",
   "metadata": {},
   "source": [
    "## Initiate data_setting.js"
   ]
  },
  {
   "cell_type": "code",
   "execution_count": 39,
   "metadata": {},
   "outputs": [],
   "source": [
    "# list all directories in the current folder\n",
    "models = [d for d in os.listdir() if os.path.isdir(d)]\n",
    "d = {e:e for e in models}\n",
    "s = 'name_to_folder_map = ' + json.dumps(d, indent=2)\n",
    "with open('data_setting.js', 'w+') as f:\n",
    "    f.write(s)"
   ]
  },
  {
   "cell_type": "markdown",
   "metadata": {},
   "source": [
    "## create a data.js file for the explorer"
   ]
  },
  {
   "cell_type": "code",
   "execution_count": 40,
   "metadata": {},
   "outputs": [
    {
     "ename": "IndexError",
     "evalue": "list index out of range",
     "output_type": "error",
     "traceback": [
      "\u001b[0;31m---------------------------------------------------------------------------\u001b[0m",
      "\u001b[0;31mIndexError\u001b[0m                                Traceback (most recent call last)",
      "Cell \u001b[0;32mIn[40], line 4\u001b[0m\n\u001b[1;32m      2\u001b[0m \u001b[39mfor\u001b[39;00m model \u001b[39min\u001b[39;00m models:\n\u001b[1;32m      3\u001b[0m     files \u001b[39m=\u001b[39m os\u001b[39m.\u001b[39mlistdir(\u001b[39mf\u001b[39m\u001b[39m'\u001b[39m\u001b[39m./\u001b[39m\u001b[39m{\u001b[39;00mmodel\u001b[39m}\u001b[39;00m\u001b[39m'\u001b[39m)\n\u001b[0;32m----> 4\u001b[0m     file \u001b[39m=\u001b[39m [f \u001b[39mfor\u001b[39;49;00m f \u001b[39min\u001b[39;49;00m files \u001b[39mif\u001b[39;49;00m f\u001b[39m.\u001b[39;49mstartswith(\u001b[39m\"\u001b[39;49m\u001b[39moutput\u001b[39;49m\u001b[39m\"\u001b[39;49m)][\u001b[39m0\u001b[39;49m]\n\u001b[1;32m      5\u001b[0m     \u001b[39mwith\u001b[39;00m \u001b[39mopen\u001b[39m(os\u001b[39m.\u001b[39mpath\u001b[39m.\u001b[39mjoin(model, file), \u001b[39m'\u001b[39m\u001b[39mr\u001b[39m\u001b[39m'\u001b[39m) \u001b[39mas\u001b[39;00m f:\n\u001b[1;32m      6\u001b[0m         obj \u001b[39m=\u001b[39m json\u001b[39m.\u001b[39mload(f)\n",
      "\u001b[0;31mIndexError\u001b[0m: list index out of range"
     ]
    }
   ],
   "source": [
    "# models = [d for d in os.listdir() if os.path.isdir(d)]\n",
    "for model in models:\n",
    "    files = os.listdir(f'./{model}')\n",
    "    file = [f for f in files if f.startswith(\"output\")][0]\n",
    "    with open(os.path.join(model, file), 'r') as f:\n",
    "        obj = json.load(f)\n",
    "    keys_needed = ['response']\n",
    "    new_obj = {}\n",
    "    for i in range(1, 1001):\n",
    "        if str(i) not in obj: continue\n",
    "        new_obj[str(i)] = {k:v for k,v in obj[str(i)].items() if k in keys_needed}\n",
    "\n",
    "    outstr = f\"{model} = {json.dumps(new_obj, indent=2)}\"\n",
    "    with open(os.path.join(model, 'data.js'), 'w') as f:\n",
    "        f.write(outstr)\n"
   ]
  },
  {
   "cell_type": "markdown",
   "metadata": {},
   "source": [
    "## create a score.js file for the leaderboard"
   ]
  },
  {
   "cell_type": "code",
   "execution_count": null,
   "metadata": {},
   "outputs": [],
   "source": [
    "def extract_import_values(obj):\n",
    "    out = {}\n",
    "    out['Model'] = \"\"               # We need Model to be the first column\n",
    "    out['ALL'] = obj['average']['accuracy']\n",
    "    out['FQA'] = obj['task']['figure question answering']['accuracy']\n",
    "    out['GPS'] = obj['task']['geometry problem solving']['accuracy']\n",
    "    out['MWP'] = obj['task']['math word problem']['accuracy']\n",
    "    out['TQA'] = obj['task']['textbook question answering']['accuracy']\n",
    "    out['ALG'] = obj['skills']['algebraic reasoning']['accuracy']\n",
    "    out['ARI'] = obj['skills']['arithmetic reasoning']['accuracy']\n",
    "    out['GEO'] = obj['skills']['geometry reasoning']['accuracy']\n",
    "    out['LOG'] = obj['skills']['logical reasoning']['accuracy']\n",
    "    out['NUM'] = obj['skills']['numeric commonsense']['accuracy']\n",
    "    out['SCI'] = obj['skills']['scientific reasoning']['accuracy']\n",
    "    out['STA'] = obj['skills']['statistical reasoning']['accuracy']\n",
    "    return out\n",
    "\n",
    "\n",
    "models = [d for d in os.listdir() if os.path.isdir(d)]\n",
    "ls = []\n",
    "for model in models:\n",
    "    files = os.listdir(f'./{model}')\n",
    "    file = [f for f in files if f.startswith(\"scores_\")][0]\n",
    "    with open(os.path.join(model, file), 'r') as f:\n",
    "        obj = json.load(f)\n",
    "    out = extract_import_values(obj)\n",
    "    out['Model'] = model\n",
    "    ls.append(out)\n",
    "\n",
    "# print to file\n",
    "with open('model_scores.js', 'w+') as f:\n",
    "    f.write(\"score_table = \" + str(ls))"
   ]
  }
 ],
 "metadata": {
  "kernelspec": {
   "display_name": "Python 3",
   "language": "python",
   "name": "python3"
  },
  "language_info": {
   "codemirror_mode": {
    "name": "ipython",
    "version": 3
   },
   "file_extension": ".py",
   "mimetype": "text/x-python",
   "name": "python",
   "nbconvert_exporter": "python",
   "pygments_lexer": "ipython3",
   "version": "3.9.6"
  },
  "orig_nbformat": 4
 },
 "nbformat": 4,
 "nbformat_minor": 2
}
