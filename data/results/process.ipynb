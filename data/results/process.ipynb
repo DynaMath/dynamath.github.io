{
 "cells": [
  {
   "cell_type": "code",
   "execution_count": 8,
   "metadata": {},
   "outputs": [],
   "source": [
    "import os\n",
    "import json"
   ]
  },
  {
   "cell_type": "code",
   "execution_count": 9,
   "metadata": {},
   "outputs": [],
   "source": [
    "# list all directories in the current folder\n",
    "models = [d for d in os.listdir() if os.path.isdir(d)]\n",
    "d = {e:e for e in models}\n",
    "s = 'name_to_folder_map = ' + json.dumps(d, indent=2)\n",
    "with open('data_setting.js', 'w+') as f:\n",
    "    f.write(s)"
   ]
  },
  {
   "cell_type": "code",
   "execution_count": 10,
   "metadata": {},
   "outputs": [],
   "source": [
    "for model in models:\n",
    "    files = os.listdir(f'./{model}')\n",
    "    file = [f for f in files if f.startswith(\"output\")][0]\n",
    "    with open(os.path.join(model, file), 'r') as f:\n",
    "        obj = json.load(f)\n",
    "    keys_needed = ['response']\n",
    "    new_obj = {}\n",
    "    for i in range(1, 1001):\n",
    "        new_obj[str(i)] = {k:v for k,v in obj[str(i)].items() if k in keys_needed}\n",
    "\n",
    "    outstr = f\"{model} = {json.dumps(new_obj, indent=2)}\"\n",
    "    with open(os.path.join(model, 'data.js'), 'w') as f:\n",
    "        f.write(outstr)\n"
   ]
  }
 ],
 "metadata": {
  "kernelspec": {
   "display_name": "Python 3",
   "language": "python",
   "name": "python3"
  },
  "language_info": {
   "codemirror_mode": {
    "name": "ipython",
    "version": 3
   },
   "file_extension": ".py",
   "mimetype": "text/x-python",
   "name": "python",
   "nbconvert_exporter": "python",
   "pygments_lexer": "ipython3",
   "version": "3.11.5"
  },
  "orig_nbformat": 4
 },
 "nbformat": 4,
 "nbformat_minor": 2
}
